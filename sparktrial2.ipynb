{
 "cells": [
  {
   "cell_type": "code",
   "execution_count": 1,
   "metadata": {},
   "outputs": [],
   "source": [
    "from pyspark.sql import SparkSession"
   ]
  },
  {
   "cell_type": "code",
   "execution_count": 2,
   "metadata": {},
   "outputs": [],
   "source": [
    "spark = SparkSession.builder.appName('Basic').getOrCreate()"
   ]
  },
  {
   "cell_type": "code",
   "execution_count": 3,
   "metadata": {},
   "outputs": [],
   "source": [
    "df = spark.read.csv('/home/aravind/Downloads/table1.csv')"
   ]
  },
  {
   "cell_type": "code",
   "execution_count": 4,
   "metadata": {},
   "outputs": [
    {
     "name": "stdout",
     "output_type": "stream",
     "text": [
      "+---+------+\n",
      "|_c0|   _c1|\n",
      "+---+------+\n",
      "|age|  name|\n",
      "|  1|   raj|\n",
      "|  1|   ram|\n",
      "|  2|ganesh|\n",
      "|  2|   raj|\n",
      "|  6|   ram|\n",
      "|  4|ganesh|\n",
      "| 99|   raj|\n",
      "|122|   ram|\n",
      "+---+------+\n",
      "\n"
     ]
    }
   ],
   "source": [
    "df.show()"
   ]
  },
  {
   "cell_type": "code",
   "execution_count": 5,
   "metadata": {},
   "outputs": [
    {
     "name": "stdout",
     "output_type": "stream",
     "text": [
      "root\n",
      " |-- _c0: string (nullable = true)\n",
      " |-- _c1: string (nullable = true)\n",
      "\n"
     ]
    }
   ],
   "source": [
    "df.printSchema()"
   ]
  },
  {
   "cell_type": "code",
   "execution_count": 6,
   "metadata": {},
   "outputs": [],
   "source": [
    "from pyspark.sql.types import (StructField,StringType,IntegerType\n",
    "                               ,StructType)"
   ]
  },
  {
   "cell_type": "code",
   "execution_count": 7,
   "metadata": {},
   "outputs": [],
   "source": [
    "data_schema = [StructField('_c0',IntegerType(),True),\n",
    "               StructField('_c1',StringType(),True)]"
   ]
  },
  {
   "cell_type": "code",
   "execution_count": 8,
   "metadata": {},
   "outputs": [],
   "source": [
    "final_struc = StructType(fields=data_schema)"
   ]
  },
  {
   "cell_type": "code",
   "execution_count": 9,
   "metadata": {},
   "outputs": [],
   "source": [
    "df = spark.read.csv('/home/aravind/Downloads/table1.csv',schema = final_struc)"
   ]
  },
  {
   "cell_type": "code",
   "execution_count": 10,
   "metadata": {},
   "outputs": [
    {
     "name": "stdout",
     "output_type": "stream",
     "text": [
      "root\n",
      " |-- _c0: integer (nullable = true)\n",
      " |-- _c1: string (nullable = true)\n",
      "\n"
     ]
    }
   ],
   "source": [
    "df.printSchema()"
   ]
  },
  {
   "cell_type": "code",
   "execution_count": 12,
   "metadata": {},
   "outputs": [
    {
     "data": {
      "text/plain": [
       "pyspark.sql.column.Column"
      ]
     },
     "execution_count": 12,
     "metadata": {},
     "output_type": "execute_result"
    }
   ],
   "source": [
    "type(df[\"_c0\"])"
   ]
  },
  {
   "cell_type": "code",
   "execution_count": 13,
   "metadata": {},
   "outputs": [
    {
     "data": {
      "text/plain": [
       "DataFrame[_c0: int]"
      ]
     },
     "execution_count": 13,
     "metadata": {},
     "output_type": "execute_result"
    }
   ],
   "source": [
    "df.select(\"_c0\")"
   ]
  },
  {
   "cell_type": "code",
   "execution_count": 14,
   "metadata": {},
   "outputs": [
    {
     "name": "stdout",
     "output_type": "stream",
     "text": [
      "+----+\n",
      "| _c0|\n",
      "+----+\n",
      "|null|\n",
      "|   1|\n",
      "|   1|\n",
      "|   2|\n",
      "|   2|\n",
      "|   6|\n",
      "|   4|\n",
      "|  99|\n",
      "| 122|\n",
      "+----+\n",
      "\n"
     ]
    }
   ],
   "source": [
    "df.select(\"_c0\").show()"
   ]
  },
  {
   "cell_type": "code",
   "execution_count": 15,
   "metadata": {},
   "outputs": [
    {
     "name": "stdout",
     "output_type": "stream",
     "text": [
      "+----+------+\n",
      "| _c0|   _c1|\n",
      "+----+------+\n",
      "|null|  null|\n",
      "|   1|   raj|\n",
      "|   1|   ram|\n",
      "|   2|ganesh|\n",
      "|   2|   raj|\n",
      "|   6|   ram|\n",
      "|   4|ganesh|\n",
      "|  99|   raj|\n",
      "| 122|   ram|\n",
      "+----+------+\n",
      "\n"
     ]
    }
   ],
   "source": [
    "df.select(\"_c0\",\"_c1\").show()"
   ]
  },
  {
   "cell_type": "code",
   "execution_count": 16,
   "metadata": {},
   "outputs": [
    {
     "data": {
      "text/plain": [
       "pyspark.sql.dataframe.DataFrame"
      ]
     },
     "execution_count": 16,
     "metadata": {},
     "output_type": "execute_result"
    }
   ],
   "source": [
    "type(df.select(\"_c0\",\"_c1\"))"
   ]
  },
  {
   "cell_type": "code",
   "execution_count": 17,
   "metadata": {},
   "outputs": [
    {
     "data": {
      "text/plain": [
       "[Row(_c0=None, _c1=None),\n",
       " Row(_c0=1, _c1='raj'),\n",
       " Row(_c0=1, _c1='ram'),\n",
       " Row(_c0=2, _c1='ganesh')]"
      ]
     },
     "execution_count": 17,
     "metadata": {},
     "output_type": "execute_result"
    }
   ],
   "source": [
    "df.head(4)"
   ]
  },
  {
   "cell_type": "code",
   "execution_count": 18,
   "metadata": {},
   "outputs": [
    {
     "data": {
      "text/plain": [
       "pyspark.sql.types.Row"
      ]
     },
     "execution_count": 18,
     "metadata": {},
     "output_type": "execute_result"
    }
   ],
   "source": [
    "type(df.head(4)[0])"
   ]
  },
  {
   "cell_type": "code",
   "execution_count": 23,
   "metadata": {},
   "outputs": [
    {
     "data": {
      "text/plain": [
       "Row(_c0=1, _c1='raj')"
      ]
     },
     "execution_count": 23,
     "metadata": {},
     "output_type": "execute_result"
    }
   ],
   "source": [
    "df.head(2)[1]"
   ]
  },
  {
   "cell_type": "code",
   "execution_count": 24,
   "metadata": {},
   "outputs": [
    {
     "name": "stdout",
     "output_type": "stream",
     "text": [
      "+----+------+\n",
      "| _c0|   _c1|\n",
      "+----+------+\n",
      "|null|  null|\n",
      "|   1|   raj|\n",
      "|   1|   ram|\n",
      "|   2|ganesh|\n",
      "|   2|   raj|\n",
      "|   6|   ram|\n",
      "|   4|ganesh|\n",
      "|  99|   raj|\n",
      "| 122|   ram|\n",
      "+----+------+\n",
      "\n"
     ]
    }
   ],
   "source": [
    "df.select(['_c0','_c1']).show()"
   ]
  },
  {
   "cell_type": "code",
   "execution_count": 26,
   "metadata": {},
   "outputs": [
    {
     "name": "stdout",
     "output_type": "stream",
     "text": [
      "+----+------+------+\n",
      "| _c0|   _c1|new_c0|\n",
      "+----+------+------+\n",
      "|null|  null|  null|\n",
      "|   1|   raj|     1|\n",
      "|   1|   ram|     1|\n",
      "|   2|ganesh|     2|\n",
      "|   2|   raj|     2|\n",
      "|   6|   ram|     6|\n",
      "|   4|ganesh|     4|\n",
      "|  99|   raj|    99|\n",
      "| 122|   ram|   122|\n",
      "+----+------+------+\n",
      "\n"
     ]
    }
   ],
   "source": [
    "df.withColumn(\"new_c0\",df['_c0']).show()"
   ]
  },
  {
   "cell_type": "code",
   "execution_count": 27,
   "metadata": {},
   "outputs": [
    {
     "name": "stdout",
     "output_type": "stream",
     "text": [
      "+----+------+----------------+\n",
      "| _c0|   _c1|new_c0 in double|\n",
      "+----+------+----------------+\n",
      "|null|  null|            null|\n",
      "|   1|   raj|               2|\n",
      "|   1|   ram|               2|\n",
      "|   2|ganesh|               4|\n",
      "|   2|   raj|               4|\n",
      "|   6|   ram|              12|\n",
      "|   4|ganesh|               8|\n",
      "|  99|   raj|             198|\n",
      "| 122|   ram|             244|\n",
      "+----+------+----------------+\n",
      "\n"
     ]
    }
   ],
   "source": [
    "df.withColumn(\"new_c0 in double\",df['_c0']*2).show()"
   ]
  },
  {
   "cell_type": "code",
   "execution_count": 28,
   "metadata": {},
   "outputs": [
    {
     "name": "stdout",
     "output_type": "stream",
     "text": [
      "+----+------+\n",
      "| _c0|   _c1|\n",
      "+----+------+\n",
      "|null|  null|\n",
      "|   1|   raj|\n",
      "|   1|   ram|\n",
      "|   2|ganesh|\n",
      "|   2|   raj|\n",
      "|   6|   ram|\n",
      "|   4|ganesh|\n",
      "|  99|   raj|\n",
      "| 122|   ram|\n",
      "+----+------+\n",
      "\n"
     ]
    }
   ],
   "source": [
    "df.show()"
   ]
  },
  {
   "cell_type": "code",
   "execution_count": 31,
   "metadata": {
    "scrolled": true
   },
   "outputs": [
    {
     "name": "stdout",
     "output_type": "stream",
     "text": [
      "+----+------+\n",
      "| age|   _c1|\n",
      "+----+------+\n",
      "|null|  null|\n",
      "|   1|   raj|\n",
      "|   1|   ram|\n",
      "|   2|ganesh|\n",
      "|   2|   raj|\n",
      "|   6|   ram|\n",
      "|   4|ganesh|\n",
      "|  99|   raj|\n",
      "| 122|   ram|\n",
      "+----+------+\n",
      "\n"
     ]
    }
   ],
   "source": [
    "df.withColumnRenamed('_c0','age').show()"
   ]
  },
  {
   "cell_type": "code",
   "execution_count": 59,
   "metadata": {
    "scrolled": true
   },
   "outputs": [],
   "source": [
    "df.createOrReplaceTempView('table1')"
   ]
  },
  {
   "cell_type": "code",
   "execution_count": 60,
   "metadata": {},
   "outputs": [],
   "source": [
    "results = spark.sql(\"SELECT * FROM table1\")\n"
   ]
  },
  {
   "cell_type": "code",
   "execution_count": 61,
   "metadata": {},
   "outputs": [
    {
     "name": "stdout",
     "output_type": "stream",
     "text": [
      "+----+------+\n",
      "| _c0|   _c1|\n",
      "+----+------+\n",
      "|null|  null|\n",
      "|   1|   raj|\n",
      "|   1|   ram|\n",
      "|   2|ganesh|\n",
      "|   2|   raj|\n",
      "|   6|   ram|\n",
      "|   4|ganesh|\n",
      "|  99|   raj|\n",
      "| 122|   ram|\n",
      "+----+------+\n",
      "\n"
     ]
    }
   ],
   "source": [
    "results.show() "
   ]
  },
  {
   "cell_type": "code",
   "execution_count": 70,
   "metadata": {},
   "outputs": [],
   "source": [
    "df.createOrReplaceTempView('table1')"
   ]
  },
  {
   "cell_type": "code",
   "execution_count": 71,
   "metadata": {},
   "outputs": [],
   "source": [
    "new = spark.sql(\"SELECT * FROM table1 WHERE _c0=99\")"
   ]
  },
  {
   "cell_type": "code",
   "execution_count": null,
   "metadata": {},
   "outputs": [],
   "source": []
  },
  {
   "cell_type": "code",
   "execution_count": 72,
   "metadata": {},
   "outputs": [
    {
     "name": "stdout",
     "output_type": "stream",
     "text": [
      "+---+---+\n",
      "|_c0|_c1|\n",
      "+---+---+\n",
      "| 99|raj|\n",
      "+---+---+\n",
      "\n"
     ]
    }
   ],
   "source": [
    "new.show()"
   ]
  },
  {
   "cell_type": "code",
   "execution_count": null,
   "metadata": {},
   "outputs": [],
   "source": []
  }
 ],
 "metadata": {
  "kernelspec": {
   "display_name": "Python 3",
   "language": "python",
   "name": "python3"
  },
  "language_info": {
   "codemirror_mode": {
    "name": "ipython",
    "version": 3
   },
   "file_extension": ".py",
   "mimetype": "text/x-python",
   "name": "python",
   "nbconvert_exporter": "python",
   "pygments_lexer": "ipython3",
   "version": "3.6.5"
  }
 },
 "nbformat": 4,
 "nbformat_minor": 2
}
