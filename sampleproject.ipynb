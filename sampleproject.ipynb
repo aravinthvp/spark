{
 "cells": [
  {
   "cell_type": "code",
   "execution_count": 1,
   "metadata": {},
   "outputs": [],
   "source": [
    "from pyspark.sql import SparkSession"
   ]
  },
  {
   "cell_type": "code",
   "execution_count": 2,
   "metadata": {},
   "outputs": [],
   "source": [
    "spark = SparkSession.builder.appName('project').getOrCreate()"
   ]
  },
  {
   "cell_type": "code",
   "execution_count": 3,
   "metadata": {},
   "outputs": [],
   "source": [
    "df = spark.read.csv('/home/aravind/Downloads/Test.csv',inferSchema=True,header=True)"
   ]
  },
  {
   "cell_type": "code",
   "execution_count": 4,
   "metadata": {},
   "outputs": [
    {
     "name": "stdout",
     "output_type": "stream",
     "text": [
      "+---------------+-----------+----------------+---------------+--------------------+--------+-----------------+-------------------------+-----------+--------------------+-----------------+\n",
      "|Item_Identifier|Item_Weight|Item_Fat_Content|Item_Visibility|           Item_Type|Item_MRP|Outlet_Identifier|Outlet_Establishment_Year|Outlet_Size|Outlet_Location_Type|      Outlet_Type|\n",
      "+---------------+-----------+----------------+---------------+--------------------+--------+-----------------+-------------------------+-----------+--------------------+-----------------+\n",
      "|          FDW58|      20.75|         Low Fat|    0.007564836|         Snack Foods|107.8622|           OUT049|                     1999|     Medium|              Tier 1|Supermarket Type1|\n",
      "|          FDW14|        8.3|             reg|    0.038427677|               Dairy| 87.3198|           OUT017|                     2007|       null|              Tier 2|Supermarket Type1|\n",
      "|          NCN55|       14.6|         Low Fat|    0.099574908|              Others|241.7538|           OUT010|                     1998|       null|              Tier 3|    Grocery Store|\n",
      "|          FDQ58|      7.315|         Low Fat|    0.015388393|         Snack Foods| 155.034|           OUT017|                     2007|       null|              Tier 2|Supermarket Type1|\n",
      "|          FDY38|       null|         Regular|    0.118599314|               Dairy|  234.23|           OUT027|                     1985|     Medium|              Tier 3|Supermarket Type3|\n",
      "|          FDH56|        9.8|         Regular|    0.063817206|Fruits and Vegeta...|117.1492|           OUT046|                     1997|      Small|              Tier 1|Supermarket Type1|\n",
      "|          FDL48|      19.35|         Regular|    0.082601537|        Baking Goods| 50.1034|           OUT018|                     2009|     Medium|              Tier 3|Supermarket Type2|\n",
      "|          FDC48|       null|         Low Fat|    0.015782495|        Baking Goods| 81.0592|           OUT027|                     1985|     Medium|              Tier 3|Supermarket Type3|\n",
      "|          FDN33|      6.305|         Regular|    0.123365446|         Snack Foods| 95.7436|           OUT045|                     2002|       null|              Tier 2|Supermarket Type1|\n",
      "|          FDA36|      5.985|         Low Fat|    0.005698435|        Baking Goods|186.8924|           OUT017|                     2007|       null|              Tier 2|Supermarket Type1|\n",
      "|          FDT44|       16.6|         Low Fat|    0.103569075|Fruits and Vegeta...|118.3466|           OUT017|                     2007|       null|              Tier 2|Supermarket Type1|\n",
      "|          FDQ56|       6.59|         Low Fat|     0.10581147|Fruits and Vegeta...| 85.3908|           OUT045|                     2002|       null|              Tier 2|Supermarket Type1|\n",
      "|          NCC54|       null|         Low Fat|    0.171079215|  Health and Hygiene|240.4196|           OUT019|                     1985|      Small|              Tier 1|    Grocery Store|\n",
      "|          FDU11|      4.785|         Low Fat|    0.092737611|              Breads|122.3098|           OUT049|                     1999|     Medium|              Tier 1|Supermarket Type1|\n",
      "|          DRL59|      16.75|              LF|    0.021206464|         Hard Drinks| 52.0298|           OUT013|                     1987|       High|              Tier 3|Supermarket Type1|\n",
      "|          FDM24|      6.135|         Regular|      0.0794507|        Baking Goods|151.6366|           OUT049|                     1999|     Medium|              Tier 1|Supermarket Type1|\n",
      "|          FDI57|      19.85|         Low Fat|     0.05413521|             Seafood|198.7768|           OUT045|                     2002|       null|              Tier 2|Supermarket Type1|\n",
      "|          DRC12|      17.85|         Low Fat|    0.037980963|         Soft Drinks|192.2188|           OUT018|                     2009|     Medium|              Tier 3|Supermarket Type2|\n",
      "|          NCM42|       null|         Low Fat|    0.028184344|           Household|109.6912|           OUT027|                     1985|     Medium|              Tier 3|Supermarket Type3|\n",
      "|          FDA46|       13.6|         Low Fat|    0.196897637|         Snack Foods|193.7136|           OUT010|                     1998|       null|              Tier 3|    Grocery Store|\n",
      "+---------------+-----------+----------------+---------------+--------------------+--------+-----------------+-------------------------+-----------+--------------------+-----------------+\n",
      "only showing top 20 rows\n",
      "\n"
     ]
    }
   ],
   "source": [
    "df.show()"
   ]
  },
  {
   "cell_type": "code",
   "execution_count": 6,
   "metadata": {},
   "outputs": [
    {
     "name": "stdout",
     "output_type": "stream",
     "text": [
      "root\n",
      " |-- Item_Identifier: string (nullable = true)\n",
      " |-- Item_Weight: double (nullable = true)\n",
      " |-- Item_Fat_Content: string (nullable = true)\n",
      " |-- Item_Visibility: double (nullable = true)\n",
      " |-- Item_Type: string (nullable = true)\n",
      " |-- Item_MRP: double (nullable = true)\n",
      " |-- Outlet_Identifier: string (nullable = true)\n",
      " |-- Outlet_Establishment_Year: integer (nullable = true)\n",
      " |-- Outlet_Size: string (nullable = true)\n",
      " |-- Outlet_Location_Type: string (nullable = true)\n",
      " |-- Outlet_Type: string (nullable = true)\n",
      "\n"
     ]
    }
   ],
   "source": [
    "df.printSchema()"
   ]
  },
  {
   "cell_type": "code",
   "execution_count": 7,
   "metadata": {},
   "outputs": [
    {
     "data": {
      "text/plain": [
       "['Item_Identifier',\n",
       " 'Item_Weight',\n",
       " 'Item_Fat_Content',\n",
       " 'Item_Visibility',\n",
       " 'Item_Type',\n",
       " 'Item_MRP',\n",
       " 'Outlet_Identifier',\n",
       " 'Outlet_Establishment_Year',\n",
       " 'Outlet_Size',\n",
       " 'Outlet_Location_Type',\n",
       " 'Outlet_Type']"
      ]
     },
     "execution_count": 7,
     "metadata": {},
     "output_type": "execute_result"
    }
   ],
   "source": [
    "df.columns"
   ]
  },
  {
   "cell_type": "code",
   "execution_count": 8,
   "metadata": {},
   "outputs": [
    {
     "data": {
      "text/plain": [
       "[Row(Item_Identifier='FDW58', Item_Weight=20.75, Item_Fat_Content='Low Fat', Item_Visibility=0.007564836, Item_Type='Snack Foods', Item_MRP=107.8622, Outlet_Identifier='OUT049', Outlet_Establishment_Year=1999, Outlet_Size='Medium', Outlet_Location_Type='Tier 1', Outlet_Type='Supermarket Type1'),\n",
       " Row(Item_Identifier='FDW14', Item_Weight=8.3, Item_Fat_Content='reg', Item_Visibility=0.038427677, Item_Type='Dairy', Item_MRP=87.3198, Outlet_Identifier='OUT017', Outlet_Establishment_Year=2007, Outlet_Size=None, Outlet_Location_Type='Tier 2', Outlet_Type='Supermarket Type1'),\n",
       " Row(Item_Identifier='NCN55', Item_Weight=14.6, Item_Fat_Content='Low Fat', Item_Visibility=0.099574908, Item_Type='Others', Item_MRP=241.7538, Outlet_Identifier='OUT010', Outlet_Establishment_Year=1998, Outlet_Size=None, Outlet_Location_Type='Tier 3', Outlet_Type='Grocery Store'),\n",
       " Row(Item_Identifier='FDQ58', Item_Weight=7.315, Item_Fat_Content='Low Fat', Item_Visibility=0.015388393, Item_Type='Snack Foods', Item_MRP=155.034, Outlet_Identifier='OUT017', Outlet_Establishment_Year=2007, Outlet_Size=None, Outlet_Location_Type='Tier 2', Outlet_Type='Supermarket Type1'),\n",
       " Row(Item_Identifier='FDY38', Item_Weight=None, Item_Fat_Content='Regular', Item_Visibility=0.118599314, Item_Type='Dairy', Item_MRP=234.23, Outlet_Identifier='OUT027', Outlet_Establishment_Year=1985, Outlet_Size='Medium', Outlet_Location_Type='Tier 3', Outlet_Type='Supermarket Type3')]"
      ]
     },
     "execution_count": 8,
     "metadata": {},
     "output_type": "execute_result"
    }
   ],
   "source": [
    "df.head(5)"
   ]
  },
  {
   "cell_type": "code",
   "execution_count": 12,
   "metadata": {},
   "outputs": [
    {
     "name": "stdout",
     "output_type": "stream",
     "text": [
      "Row(Item_Identifier='FDW58', Item_Weight=20.75, Item_Fat_Content='Low Fat', Item_Visibility=0.007564836, Item_Type='Snack Foods', Item_MRP=107.8622, Outlet_Identifier='OUT049', Outlet_Establishment_Year=1999, Outlet_Size='Medium', Outlet_Location_Type='Tier 1', Outlet_Type='Supermarket Type1')\n",
      "\n",
      "\n",
      "Row(Item_Identifier='FDW14', Item_Weight=8.3, Item_Fat_Content='reg', Item_Visibility=0.038427677, Item_Type='Dairy', Item_MRP=87.3198, Outlet_Identifier='OUT017', Outlet_Establishment_Year=2007, Outlet_Size=None, Outlet_Location_Type='Tier 2', Outlet_Type='Supermarket Type1')\n",
      "\n",
      "\n",
      "Row(Item_Identifier='NCN55', Item_Weight=14.6, Item_Fat_Content='Low Fat', Item_Visibility=0.099574908, Item_Type='Others', Item_MRP=241.7538, Outlet_Identifier='OUT010', Outlet_Establishment_Year=1998, Outlet_Size=None, Outlet_Location_Type='Tier 3', Outlet_Type='Grocery Store')\n",
      "\n",
      "\n",
      "Row(Item_Identifier='FDQ58', Item_Weight=7.315, Item_Fat_Content='Low Fat', Item_Visibility=0.015388393, Item_Type='Snack Foods', Item_MRP=155.034, Outlet_Identifier='OUT017', Outlet_Establishment_Year=2007, Outlet_Size=None, Outlet_Location_Type='Tier 2', Outlet_Type='Supermarket Type1')\n",
      "\n",
      "\n",
      "Row(Item_Identifier='FDY38', Item_Weight=None, Item_Fat_Content='Regular', Item_Visibility=0.118599314, Item_Type='Dairy', Item_MRP=234.23, Outlet_Identifier='OUT027', Outlet_Establishment_Year=1985, Outlet_Size='Medium', Outlet_Location_Type='Tier 3', Outlet_Type='Supermarket Type3')\n",
      "\n",
      "\n"
     ]
    }
   ],
   "source": [
    "for row in df.head(5):\n",
    "    print(row)\n",
    "    print('\\n')"
   ]
  },
  {
   "cell_type": "code",
   "execution_count": 14,
   "metadata": {},
   "outputs": [
    {
     "name": "stdout",
     "output_type": "stream",
     "text": [
      "+-------+---------------+------------------+----------------+-------------------+-------------+------------------+-----------------+-------------------------+-----------+--------------------+-----------------+\n",
      "|summary|Item_Identifier|       Item_Weight|Item_Fat_Content|    Item_Visibility|    Item_Type|          Item_MRP|Outlet_Identifier|Outlet_Establishment_Year|Outlet_Size|Outlet_Location_Type|      Outlet_Type|\n",
      "+-------+---------------+------------------+----------------+-------------------+-------------+------------------+-----------------+-------------------------+-----------+--------------------+-----------------+\n",
      "|  count|           5681|              4705|            5681|               5681|         5681|              5681|             5681|                     5681|       4075|                5681|             5681|\n",
      "|   mean|           null|12.695633368756374|            null|0.06568385968808292|         null|141.02327340256954|             null|       1997.8289033620842|       null|                null|             null|\n",
      "| stddev|           null| 4.664848587385393|            null|0.05125236833166176|         null| 61.80909059594733|             null|        8.372255636838974|       null|                null|             null|\n",
      "|    min|          DRA12|             4.555|              LF|                0.0| Baking Goods|             31.99|           OUT010|                     1985|       High|              Tier 1|    Grocery Store|\n",
      "|    max|          NCZ54|             21.35|             reg|        0.323637245|Starchy Foods|          266.5884|           OUT049|                     2009|      Small|              Tier 3|Supermarket Type3|\n",
      "+-------+---------------+------------------+----------------+-------------------+-------------+------------------+-----------------+-------------------------+-----------+--------------------+-----------------+\n",
      "\n"
     ]
    }
   ],
   "source": [
    "df.describe().show()"
   ]
  },
  {
   "cell_type": "code",
   "execution_count": 15,
   "metadata": {},
   "outputs": [
    {
     "name": "stdout",
     "output_type": "stream",
     "text": [
      "root\n",
      " |-- summary: string (nullable = true)\n",
      " |-- Item_Identifier: string (nullable = true)\n",
      " |-- Item_Weight: string (nullable = true)\n",
      " |-- Item_Fat_Content: string (nullable = true)\n",
      " |-- Item_Visibility: string (nullable = true)\n",
      " |-- Item_Type: string (nullable = true)\n",
      " |-- Item_MRP: string (nullable = true)\n",
      " |-- Outlet_Identifier: string (nullable = true)\n",
      " |-- Outlet_Establishment_Year: string (nullable = true)\n",
      " |-- Outlet_Size: string (nullable = true)\n",
      " |-- Outlet_Location_Type: string (nullable = true)\n",
      " |-- Outlet_Type: string (nullable = true)\n",
      "\n"
     ]
    }
   ],
   "source": [
    "df.describe().printSchema()"
   ]
  },
  {
   "cell_type": "code",
   "execution_count": 16,
   "metadata": {},
   "outputs": [],
   "source": [
    "from pyspark.sql.functions import format_number"
   ]
  },
  {
   "cell_type": "code",
   "execution_count": 17,
   "metadata": {},
   "outputs": [],
   "source": [
    "result = df.describe()"
   ]
  },
  {
   "cell_type": "code",
   "execution_count": 20,
   "metadata": {},
   "outputs": [
    {
     "name": "stdout",
     "output_type": "stream",
     "text": [
      "+-------+--------+--------------------+\n",
      "|summary|  Weight|Maximum Retail Price|\n",
      "+-------+--------+--------------------+\n",
      "|  count|4,705.00|            5,681.00|\n",
      "|   mean|   12.00|              141.00|\n",
      "| stddev|    4.00|               61.00|\n",
      "|    min|    4.00|               31.00|\n",
      "|    max|   21.00|              266.00|\n",
      "+-------+--------+--------------------+\n",
      "\n"
     ]
    }
   ],
   "source": [
    "result.select(result['summary'],\n",
    "              format_number(result['Item_Weight'].cast('int'),2).alias('Weight'),\n",
    "              format_number(result['Item_MRP'].cast('int'),2).alias('Maximum Retail Price')\n",
    "             ).show()"
   ]
  },
  {
   "cell_type": "code",
   "execution_count": 33,
   "metadata": {},
   "outputs": [],
   "source": [
    "df2 = df.withColumn(\"new weight\",df['Item_Weight']+3)"
   ]
  },
  {
   "cell_type": "code",
   "execution_count": 34,
   "metadata": {},
   "outputs": [
    {
     "name": "stdout",
     "output_type": "stream",
     "text": [
      "+------------------+\n",
      "|        new weight|\n",
      "+------------------+\n",
      "|             23.75|\n",
      "|              11.3|\n",
      "|              17.6|\n",
      "|10.315000000000001|\n",
      "|              null|\n",
      "|              12.8|\n",
      "|             22.35|\n",
      "|              null|\n",
      "|             9.305|\n",
      "|             8.985|\n",
      "|              19.6|\n",
      "|              9.59|\n",
      "|              null|\n",
      "|             7.785|\n",
      "|             19.75|\n",
      "|             9.135|\n",
      "|             22.85|\n",
      "|             20.85|\n",
      "|              null|\n",
      "|              16.6|\n",
      "+------------------+\n",
      "only showing top 20 rows\n",
      "\n"
     ]
    }
   ],
   "source": [
    "df2.select(\"new weight\").show()"
   ]
  },
  {
   "cell_type": "code",
   "execution_count": 39,
   "metadata": {},
   "outputs": [
    {
     "name": "stdout",
     "output_type": "stream",
     "text": [
      "+---------------+-----------+----------------+---------------+------------------+--------+-----------------+-------------------------+-----------+--------------------+-----------------+\n",
      "|Item_Identifier|Item_Weight|Item_Fat_Content|Item_Visibility|         Item_Type|Item_MRP|Outlet_Identifier|Outlet_Establishment_Year|Outlet_Size|Outlet_Location_Type|      Outlet_Type|\n",
      "+---------------+-----------+----------------+---------------+------------------+--------+-----------------+-------------------------+-----------+--------------------+-----------------+\n",
      "|          NCR42|      9.105|         Low Fat|     0.03844986|         Household|   31.99|           OUT013|                     1987|       High|              Tier 3|Supermarket Type1|\n",
      "|          NCO06|      19.25|         Low Fat|    0.108249522|         Household| 32.0558|           OUT045|                     2002|       null|              Tier 2|Supermarket Type1|\n",
      "|          NCR42|       null|         Low Fat|     0.06737681|         Household|   32.09|           OUT019|                     1985|      Small|              Tier 1|    Grocery Store|\n",
      "|          NCR42|       null|         Low Fat|    0.038295533|         Household|   32.39|           OUT027|                     1985|     Medium|              Tier 3|Supermarket Type3|\n",
      "|          DRK12|        9.5|         Low Fat|    0.041886317|       Soft Drinks|   32.39|           OUT046|                     1997|      Small|              Tier 1|Supermarket Type1|\n",
      "|          NCR42|      9.105|         Low Fat|    0.038638642|         Household|   32.39|           OUT018|                     2009|     Medium|              Tier 3|Supermarket Type2|\n",
      "|          NCO06|      19.25|         Low Fat|    0.108198392|         Household| 32.4558|           OUT049|                     1999|     Medium|              Tier 1|Supermarket Type1|\n",
      "|          NCR42|      9.105|         Low Fat|            0.0|         Household|   32.59|           OUT046|                     1997|      Small|              Tier 1|Supermarket Type1|\n",
      "|          FDU21|       11.8|         Regular|    0.077032981|       Snack Foods| 32.7558|           OUT018|                     2009|     Medium|              Tier 3|Supermarket Type2|\n",
      "|          NCL41|       null|         Low Fat|     0.04153551|Health and Hygiene| 32.8216|           OUT027|                     1985|     Medium|              Tier 3|Supermarket Type3|\n",
      "|          FDU21|       11.8|         Regular|    0.128414313|       Snack Foods| 33.0558|           OUT010|                     1998|       null|              Tier 3|    Grocery Store|\n",
      "|          NCO06|      19.25|         Low Fat|    0.108641498|         Household| 33.0558|           OUT017|                     2007|       null|              Tier 2|Supermarket Type1|\n",
      "|          NCR42|      9.105|         Low Fat|    0.038541712|         Household|   33.09|           OUT049|                     1999|     Medium|              Tier 1|Supermarket Type1|\n",
      "|          FDG40|       null|         Low Fat|     0.06972729|      Frozen Foods| 33.2558|           OUT019|                     1985|      Small|              Tier 1|    Grocery Store|\n",
      "|          FDT02|       12.6|         Low Fat|    0.024174597|             Dairy| 33.2874|           OUT013|                     1987|       High|              Tier 3|Supermarket Type1|\n",
      "|          FDG40|      13.65|         Low Fat|    0.039791206|      Frozen Foods| 33.4558|           OUT013|                     1987|       High|              Tier 3|Supermarket Type1|\n",
      "|          FDT36|       12.3|         Low Fat|    0.111447593|      Baking Goods| 33.4874|           OUT049|                     1999|     Medium|              Tier 1|Supermarket Type1|\n",
      "|          FDX59|     10.195|         Low Fat|    0.086470378|            Breads| 33.6558|           OUT010|                     1998|       null|              Tier 3|    Grocery Store|\n",
      "|          FDX59|     10.195|         Low Fat|    0.051953489|            Breads| 33.8558|           OUT017|                     2007|       null|              Tier 2|Supermarket Type1|\n",
      "|          FDQ47|      7.155|         Regular|    0.168046416|            Breads| 33.8874|           OUT013|                     1987|       High|              Tier 3|Supermarket Type1|\n",
      "+---------------+-----------+----------------+---------------+------------------+--------+-----------------+-------------------------+-----------+--------------------+-----------------+\n",
      "only showing top 20 rows\n",
      "\n"
     ]
    }
   ],
   "source": [
    "df.orderBy(df['Item_MRP'].asc()).show()"
   ]
  },
  {
   "cell_type": "code",
   "execution_count": 40,
   "metadata": {},
   "outputs": [
    {
     "name": "stdout",
     "output_type": "stream",
     "text": [
      "+---------------+-----------+----------------+---------------+------------------+--------+-----------------+-------------------------+-----------+--------------------+-----------------+\n",
      "|Item_Identifier|Item_Weight|Item_Fat_Content|Item_Visibility|         Item_Type|Item_MRP|Outlet_Identifier|Outlet_Establishment_Year|Outlet_Size|Outlet_Location_Type|      Outlet_Type|\n",
      "+---------------+-----------+----------------+---------------+------------------+--------+-----------------+-------------------------+-----------+--------------------+-----------------+\n",
      "|          FDR25|       17.0|         Regular|    0.139495548|            Canned|266.5884|           OUT035|                     2004|      Small|              Tier 2|Supermarket Type1|\n",
      "|          FDR25|       17.0|         Regular|     0.13973885|            Canned|266.4884|           OUT049|                     1999|     Medium|              Tier 1|Supermarket Type1|\n",
      "|          NCM05|      6.825|         Low Fat|    0.060090767|Health and Hygiene|266.3226|           OUT018|                     2009|     Medium|              Tier 3|Supermarket Type2|\n",
      "|          FDY14|       10.3|         Low Fat|    0.117232927|             Dairy|266.2226|           OUT010|                     1998|       null|              Tier 3|    Grocery Store|\n",
      "|          FDS13|      6.465|         Low Fat|    0.124699691|            Canned|266.0884|           OUT049|                     1999|     Medium|              Tier 1|Supermarket Type1|\n",
      "|          FDY14|       10.3|         Low Fat|     0.07043637|             Dairy|265.3226|           OUT017|                     2007|       null|              Tier 2|Supermarket Type1|\n",
      "|          FDK51|      19.85|         Low Fat|            0.0|             Dairy|265.0884|           OUT045|                     2002|       null|              Tier 2|Supermarket Type1|\n",
      "|          FDI15|       13.8|         low fat|    0.141639229|             Dairy|265.0884|           OUT045|                     2002|       null|              Tier 2|Supermarket Type1|\n",
      "|          FDI15|       13.8|         Low Fat|     0.23659521|             Dairy|265.0884|           OUT010|                     1998|       null|              Tier 3|    Grocery Store|\n",
      "|          FDL58|       null|         Regular|    0.073790004|       Snack Foods|265.0568|           OUT027|                     1985|     Medium|              Tier 3|Supermarket Type3|\n",
      "|          FDB15|     10.895|         Low Fat|    0.137088198|             Dairy|265.0568|           OUT045|                     2002|       null|              Tier 2|Supermarket Type1|\n",
      "|          NCM05|      6.825|         Low Fat|    0.060185494|Health and Hygiene|264.9226|           OUT017|                     2007|       null|              Tier 2|Supermarket Type1|\n",
      "|          NCS06|      7.935|         Low Fat|            0.0|         Household| 264.791|           OUT017|                     2007|       null|              Tier 2|Supermarket Type1|\n",
      "|          FDO09|       13.5|         Regular|    0.125983278|       Snack Foods| 264.691|           OUT017|                     2007|       null|              Tier 2|Supermarket Type1|\n",
      "|          NCS29|        9.0|              LF|    0.116404843|Health and Hygiene|264.6884|           OUT010|                     1998|       null|              Tier 3|    Grocery Store|\n",
      "|          FDR25|       17.0|         Regular|    0.139405824|            Canned|264.6884|           OUT013|                     1987|       High|              Tier 3|Supermarket Type1|\n",
      "|          NCS29|        9.0|         Low Fat|    0.069686501|Health and Hygiene|264.6884|           OUT045|                     2002|       null|              Tier 2|Supermarket Type1|\n",
      "|          FDY14|       10.3|         Low Fat|    0.070182238|             Dairy|264.6226|           OUT045|                     2002|       null|              Tier 2|Supermarket Type1|\n",
      "|          FDV49|       10.0|         Low Fat|    0.025805706|            Canned|264.6226|           OUT013|                     1987|       High|              Tier 3|Supermarket Type1|\n",
      "|          FDI15|       null|         Low Fat|    0.140668056|             Dairy|264.4884|           OUT027|                     1985|     Medium|              Tier 3|Supermarket Type3|\n",
      "+---------------+-----------+----------------+---------------+------------------+--------+-----------------+-------------------------+-----------+--------------------+-----------------+\n",
      "only showing top 20 rows\n",
      "\n"
     ]
    }
   ],
   "source": [
    "df.orderBy(df['Item_MRP'].desc()).show()"
   ]
  },
  {
   "cell_type": "code",
   "execution_count": 46,
   "metadata": {},
   "outputs": [
    {
     "data": {
      "text/plain": [
       "2004"
      ]
     },
     "execution_count": 46,
     "metadata": {},
     "output_type": "execute_result"
    }
   ],
   "source": [
    "df.orderBy(df['Item_MRP'].desc()).head(1)[0][7]"
   ]
  },
  {
   "cell_type": "code",
   "execution_count": 84,
   "metadata": {},
   "outputs": [],
   "source": [
    "from pyspark.sql.functions import mean,max,min,count,corr,year"
   ]
  },
  {
   "cell_type": "code",
   "execution_count": 51,
   "metadata": {},
   "outputs": [
    {
     "name": "stdout",
     "output_type": "stream",
     "text": [
      "+------------------+-------------+-------------+\n",
      "|     avg(Item_MRP)|max(Item_MRP)|min(Item_MRP)|\n",
      "+------------------+-------------+-------------+\n",
      "|141.02327340256954|     266.5884|        31.99|\n",
      "+------------------+-------------+-------------+\n",
      "\n"
     ]
    }
   ],
   "source": [
    "df.select(mean('Item_MRP'),max('Item_MRP'),min('Item_MRP')).show()"
   ]
  },
  {
   "cell_type": "code",
   "execution_count": 57,
   "metadata": {},
   "outputs": [
    {
     "data": {
      "text/plain": [
       "21"
      ]
     },
     "execution_count": 57,
     "metadata": {},
     "output_type": "execute_result"
    }
   ],
   "source": [
    "df.filter('Item_MRP < 34').count()"
   ]
  },
  {
   "cell_type": "code",
   "execution_count": 58,
   "metadata": {},
   "outputs": [
    {
     "data": {
      "text/plain": [
       "21"
      ]
     },
     "execution_count": 58,
     "metadata": {},
     "output_type": "execute_result"
    }
   ],
   "source": [
    "df.filter(df['Item_MRP'] < 34).count()"
   ]
  },
  {
   "cell_type": "code",
   "execution_count": 62,
   "metadata": {},
   "outputs": [],
   "source": [
    "a = df.filter(df['Item_MRP']<34)"
   ]
  },
  {
   "cell_type": "code",
   "execution_count": 63,
   "metadata": {},
   "outputs": [
    {
     "name": "stdout",
     "output_type": "stream",
     "text": [
      "+---------------+\n",
      "|count(Item_MRP)|\n",
      "+---------------+\n",
      "|             21|\n",
      "+---------------+\n",
      "\n"
     ]
    }
   ],
   "source": [
    "a.select(count('Item_MRP')).show()"
   ]
  },
  {
   "cell_type": "code",
   "execution_count": 65,
   "metadata": {},
   "outputs": [
    {
     "name": "stdout",
     "output_type": "stream",
     "text": [
      "+---------------------------+\n",
      "|corr(Item_MRP, Item_Weight)|\n",
      "+---------------------------+\n",
      "|       0.049808541926567675|\n",
      "+---------------------------+\n",
      "\n"
     ]
    }
   ],
   "source": [
    "df.select(corr('Item_MRP','Item_Weight')).show()"
   ]
  },
  {
   "cell_type": "code",
   "execution_count": null,
   "metadata": {},
   "outputs": [],
   "source": [
    "\n"
   ]
  },
  {
   "cell_type": "code",
   "execution_count": null,
   "metadata": {},
   "outputs": [],
   "source": []
  },
  {
   "cell_type": "code",
   "execution_count": null,
   "metadata": {},
   "outputs": [],
   "source": []
  }
 ],
 "metadata": {
  "kernelspec": {
   "display_name": "Python 3",
   "language": "python",
   "name": "python3"
  },
  "language_info": {
   "codemirror_mode": {
    "name": "ipython",
    "version": 3
   },
   "file_extension": ".py",
   "mimetype": "text/x-python",
   "name": "python",
   "nbconvert_exporter": "python",
   "pygments_lexer": "ipython3",
   "version": "3.6.5"
  }
 },
 "nbformat": 4,
 "nbformat_minor": 2
}
