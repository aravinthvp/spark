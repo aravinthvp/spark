{
 "cells": [
  {
   "cell_type": "code",
   "execution_count": 1,
   "metadata": {},
   "outputs": [],
   "source": [
    "from pyspark.sql import SparkSession"
   ]
  },
  {
   "cell_type": "code",
   "execution_count": 2,
   "metadata": {},
   "outputs": [],
   "source": [
    "spark = SparkSession.builder.appName('dd').getOrCreate()"
   ]
  },
  {
   "cell_type": "code",
   "execution_count": 5,
   "metadata": {},
   "outputs": [],
   "source": [
    "df = spark.read.csv('/home/aravind/Downloads/aa/Electric_Production.csv',inferSchema=True,header=True)"
   ]
  },
  {
   "cell_type": "code",
   "execution_count": 6,
   "metadata": {},
   "outputs": [
    {
     "name": "stdout",
     "output_type": "stream",
     "text": [
      "+-------------------+----------+\n",
      "|               DATE|IPG2211A2N|\n",
      "+-------------------+----------+\n",
      "|1985-01-01 00:00:00|   72.5052|\n",
      "|1985-02-01 00:00:00|    70.672|\n",
      "|1985-03-01 00:00:00|   62.4502|\n",
      "|1985-04-01 00:00:00|   57.4714|\n",
      "|1985-05-01 00:00:00|   55.3151|\n",
      "|1985-06-01 00:00:00|   58.0904|\n",
      "|1985-07-01 00:00:00|   62.6202|\n",
      "|1985-08-01 00:00:00|   63.2485|\n",
      "|1985-09-01 00:00:00|   60.5846|\n",
      "|1985-10-01 00:00:00|   56.3154|\n",
      "|1985-11-01 00:00:00|   58.0005|\n",
      "|1985-12-01 00:00:00|   68.7145|\n",
      "|1986-01-01 00:00:00|   73.3057|\n",
      "|1986-02-01 00:00:00|   67.9869|\n",
      "|1986-03-01 00:00:00|   62.2221|\n",
      "|1986-04-01 00:00:00|   57.0329|\n",
      "|1986-05-01 00:00:00|   55.8137|\n",
      "|1986-06-01 00:00:00|   59.9005|\n",
      "|1986-07-01 00:00:00|   65.7655|\n",
      "|1986-08-01 00:00:00|   64.4816|\n",
      "+-------------------+----------+\n",
      "only showing top 20 rows\n",
      "\n"
     ]
    }
   ],
   "source": [
    "df.show()"
   ]
  },
  {
   "cell_type": "code",
   "execution_count": 11,
   "metadata": {},
   "outputs": [],
   "source": [
    "from pyspark.sql.functions import year,month"
   ]
  },
  {
   "cell_type": "code",
   "execution_count": 8,
   "metadata": {},
   "outputs": [],
   "source": [
    "yeardf = df.withColumn(\"Year\",year(df['date']))"
   ]
  },
  {
   "cell_type": "code",
   "execution_count": 9,
   "metadata": {},
   "outputs": [],
   "source": [
    "maxdf = yeardf.groupBy('Year').max()"
   ]
  },
  {
   "cell_type": "code",
   "execution_count": 10,
   "metadata": {},
   "outputs": [
    {
     "name": "stdout",
     "output_type": "stream",
     "text": [
      "+----+---------------+\n",
      "|Year|max(IPG2211A2N)|\n",
      "+----+---------------+\n",
      "|1990|        84.3598|\n",
      "|2003|       110.1807|\n",
      "|2007|       114.1036|\n",
      "|2018|       129.4048|\n",
      "|2015|       120.2696|\n",
      "|2006|       111.5192|\n",
      "|2013|        115.501|\n",
      "|1988|        79.8703|\n",
      "|1997|        98.4613|\n",
      "|1994|        94.1386|\n",
      "|2014|       124.2549|\n",
      "|2004|       113.7226|\n",
      "|1991|        86.0214|\n",
      "|1989|        84.1949|\n",
      "|1996|        98.9732|\n",
      "|1998|         94.792|\n",
      "|1985|        72.5052|\n",
      "|2012|       113.0357|\n",
      "|1987|        73.8152|\n",
      "|2009|       116.8316|\n",
      "+----+---------------+\n",
      "only showing top 20 rows\n",
      "\n"
     ]
    }
   ],
   "source": [
    "maxdf.select('Year','max(IPG2211A2N)').show()"
   ]
  },
  {
   "cell_type": "code",
   "execution_count": 12,
   "metadata": {},
   "outputs": [],
   "source": [
    "monthdf = df.withColumn('Month',month('Date'))"
   ]
  },
  {
   "cell_type": "code",
   "execution_count": 14,
   "metadata": {},
   "outputs": [],
   "source": [
    "avgs = monthdf.select(['Month','IPG2211A2N']).groupBy('Month').mean()"
   ]
  },
  {
   "cell_type": "code",
   "execution_count": 15,
   "metadata": {},
   "outputs": [
    {
     "name": "stdout",
     "output_type": "stream",
     "text": [
      "+-----+------------------+\n",
      "|Month|   avg(IPG2211A2N)|\n",
      "+-----+------------------+\n",
      "|    1|102.10024117647059|\n",
      "|    2| 94.09552121212123|\n",
      "|    3| 87.90269090909092|\n",
      "|    4| 79.13451818181818|\n",
      "|    5| 79.41436666666665|\n",
      "|    6| 87.41590606060606|\n",
      "|    7| 94.94491515151516|\n",
      "|    8| 95.16984848484849|\n",
      "|    9|  86.4843909090909|\n",
      "|   10| 80.20912121212119|\n",
      "|   11| 83.13587878787878|\n",
      "|   12| 95.75760606060605|\n",
      "+-----+------------------+\n",
      "\n"
     ]
    }
   ],
   "source": [
    "avgs.select('Month','avg(IPG2211A2N)').orderBy('Month').show()"
   ]
  },
  {
   "cell_type": "code",
   "execution_count": null,
   "metadata": {},
   "outputs": [],
   "source": []
  }
 ],
 "metadata": {
  "kernelspec": {
   "display_name": "Python 3",
   "language": "python",
   "name": "python3"
  },
  "language_info": {
   "codemirror_mode": {
    "name": "ipython",
    "version": 3
   },
   "file_extension": ".py",
   "mimetype": "text/x-python",
   "name": "python",
   "nbconvert_exporter": "python",
   "pygments_lexer": "ipython3",
   "version": "3.6.5"
  }
 },
 "nbformat": 4,
 "nbformat_minor": 2
}
