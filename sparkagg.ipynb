{
 "cells": [
  {
   "cell_type": "code",
   "execution_count": 5,
   "metadata": {},
   "outputs": [],
   "source": [
    "from pyspark.sql import SparkSession"
   ]
  },
  {
   "cell_type": "code",
   "execution_count": 6,
   "metadata": {},
   "outputs": [],
   "source": [
    "spark = SparkSession.builder.appName('opp').getOrCreate()"
   ]
  },
  {
   "cell_type": "code",
   "execution_count": 7,
   "metadata": {},
   "outputs": [],
   "source": [
    "df = spark.read.csv('/home/aravind/Downloads/zip.csv',inferSchema=True,header=True)"
   ]
  },
  {
   "cell_type": "code",
   "execution_count": 8,
   "metadata": {},
   "outputs": [
    {
     "name": "stdout",
     "output_type": "stream",
     "text": [
      "root\n",
      " |-- Categories: string (nullable = true)\n",
      " |-- Elements: string (nullable = true)\n",
      " |-- US_Pct_or_Rate_2003: double (nullable = true)\n",
      " |-- Healthy_People_2010_Target: double (nullable = true)\n",
      "\n"
     ]
    }
   ],
   "source": [
    "df.printSchema()"
   ]
  },
  {
   "cell_type": "code",
   "execution_count": 9,
   "metadata": {},
   "outputs": [
    {
     "name": "stdout",
     "output_type": "stream",
     "text": [
      "+----------------+--------------------+-------------------+--------------------------+\n",
      "|      Categories|            Elements|US_Pct_or_Rate_2003|Healthy_People_2010_Target|\n",
      "+----------------+--------------------+-------------------+--------------------------+\n",
      "|  Birth Measures|Low Birth Wt. (<2...|                7.9|                       5.0|\n",
      "|  Birth Measures|Very Low Birth Wt...|                1.4|                       0.9|\n",
      "|  Birth Measures|Premature Births ...|               12.3|                       7.6|\n",
      "|  Birth Measures|Births to Women u...|                3.4|                   -9998.9|\n",
      "|  Birth Measures|Births to Women o...|                2.6|                   -9998.9|\n",
      "|  Birth Measures|Births to Unmarri...|               34.6|                   -9998.9|\n",
      "|  Birth Measures|No Care in First ...|               16.0|                      10.0|\n",
      "|Infant Mortality|    Infant Mortality|                6.8|                       4.5|\n",
      "|Infant Mortality|White non Hispani...|                5.7|                       4.5|\n",
      "|Infant Mortality|Black non Hispani...|               13.6|                       4.5|\n",
      "|Infant Mortality|Hispanic Infant M...|                5.6|                       4.5|\n",
      "|Infant Mortality|Neonatal Infant M...|                4.6|                       2.9|\n",
      "|Infant Mortality|Post-neonatal Inf...|                2.2|                       1.2|\n",
      "|  Death Measures|Breast Cancer (Fe...|               25.3|                      21.3|\n",
      "|  Death Measures|        Colon Cancer|               19.1|                      13.7|\n",
      "|  Death Measures|Coronary Heart Di...|              172.0|                     162.0|\n",
      "|  Death Measures|            Homicide|                6.0|                       2.8|\n",
      "|  Death Measures|         Lung Cancer|               54.1|                      43.3|\n",
      "|  Death Measures|Motor Vehicle Inj...|               14.8|                       8.0|\n",
      "|  Death Measures|              Stroke|               53.0|                      50.0|\n",
      "+----------------+--------------------+-------------------+--------------------------+\n",
      "only showing top 20 rows\n",
      "\n"
     ]
    }
   ],
   "source": [
    "df.show()"
   ]
  },
  {
   "cell_type": "code",
   "execution_count": 10,
   "metadata": {},
   "outputs": [
    {
     "data": {
      "text/plain": [
       "<pyspark.sql.group.GroupedData at 0x7f6eb4f78860>"
      ]
     },
     "execution_count": 10,
     "metadata": {},
     "output_type": "execute_result"
    }
   ],
   "source": [
    "df.groupBy(\"Categories\")"
   ]
  },
  {
   "cell_type": "code",
   "execution_count": 11,
   "metadata": {},
   "outputs": [
    {
     "data": {
      "text/plain": [
       "DataFrame[Categories: string, avg(US_Pct_or_Rate_2003): double, avg(Healthy_People_2010_Target): double]"
      ]
     },
     "execution_count": 11,
     "metadata": {},
     "output_type": "execute_result"
    }
   ],
   "source": [
    "df.groupBy(\"Categories\").mean()"
   ]
  },
  {
   "cell_type": "code",
   "execution_count": 12,
   "metadata": {},
   "outputs": [
    {
     "name": "stdout",
     "output_type": "stream",
     "text": [
      "+----------------+------------------------+-------------------------------+\n",
      "|      Categories|avg(US_Pct_or_Rate_2003)|avg(Healthy_People_2010_Target)|\n",
      "+----------------+------------------------+-------------------------------+\n",
      "|Infant Mortality|       6.416666666666668|              3.683333333333333|\n",
      "|  Birth Measures|      11.171428571428573|             -4281.885714285714|\n",
      "|  Death Measures|                    43.6|              35.88888888888889|\n",
      "+----------------+------------------------+-------------------------------+\n",
      "\n"
     ]
    }
   ],
   "source": [
    "df.groupBy(\"Categories\").mean().show()"
   ]
  },
  {
   "cell_type": "code",
   "execution_count": 13,
   "metadata": {},
   "outputs": [
    {
     "name": "stdout",
     "output_type": "stream",
     "text": [
      "+----------------+------------------------+\n",
      "|      Categories|avg(US_Pct_or_Rate_2003)|\n",
      "+----------------+------------------------+\n",
      "|Infant Mortality|       6.416666666666668|\n",
      "|  Birth Measures|      11.171428571428573|\n",
      "|  Death Measures|                    43.6|\n",
      "+----------------+------------------------+\n",
      "\n"
     ]
    }
   ],
   "source": [
    "df.groupBy(\"Categories\").mean('US_Pct_or_Rate_2003').show()"
   ]
  },
  {
   "cell_type": "code",
   "execution_count": 14,
   "metadata": {},
   "outputs": [
    {
     "name": "stdout",
     "output_type": "stream",
     "text": [
      "+----------------+------------------------+-------------------------------+\n",
      "|      Categories|sum(US_Pct_or_Rate_2003)|sum(Healthy_People_2010_Target)|\n",
      "+----------------+------------------------+-------------------------------+\n",
      "|Infant Mortality|       38.50000000000001|             22.099999999999998|\n",
      "|  Birth Measures|                    78.2|            -29973.199999999997|\n",
      "|  Death Measures|      392.40000000000003|             323.00000000000006|\n",
      "+----------------+------------------------+-------------------------------+\n",
      "\n"
     ]
    }
   ],
   "source": [
    "df.groupBy(\"Categories\").sum().show()"
   ]
  },
  {
   "cell_type": "code",
   "execution_count": 15,
   "metadata": {},
   "outputs": [
    {
     "name": "stdout",
     "output_type": "stream",
     "text": [
      "+----------------+------------------------+-------------------------------+\n",
      "|      Categories|max(US_Pct_or_Rate_2003)|max(Healthy_People_2010_Target)|\n",
      "+----------------+------------------------+-------------------------------+\n",
      "|Infant Mortality|                    13.6|                            4.5|\n",
      "|  Birth Measures|                    34.6|                           10.0|\n",
      "|  Death Measures|                   172.0|                          162.0|\n",
      "+----------------+------------------------+-------------------------------+\n",
      "\n"
     ]
    }
   ],
   "source": [
    "df.groupBy(\"Categories\").max().show()"
   ]
  },
  {
   "cell_type": "code",
   "execution_count": 16,
   "metadata": {},
   "outputs": [
    {
     "name": "stdout",
     "output_type": "stream",
     "text": [
      "+----------------+------------------------+-------------------------------+\n",
      "|      Categories|min(US_Pct_or_Rate_2003)|min(Healthy_People_2010_Target)|\n",
      "+----------------+------------------------+-------------------------------+\n",
      "|Infant Mortality|                     2.2|                            1.2|\n",
      "|  Birth Measures|                     1.4|                        -9998.9|\n",
      "|  Death Measures|                     6.0|                            2.8|\n",
      "+----------------+------------------------+-------------------------------+\n",
      "\n"
     ]
    }
   ],
   "source": [
    "df.groupBy(\"Categories\").min().show()"
   ]
  },
  {
   "cell_type": "code",
   "execution_count": 17,
   "metadata": {},
   "outputs": [
    {
     "name": "stdout",
     "output_type": "stream",
     "text": [
      "+----------------+-----+\n",
      "|      Categories|count|\n",
      "+----------------+-----+\n",
      "|Infant Mortality|    6|\n",
      "|  Birth Measures|    7|\n",
      "|  Death Measures|    9|\n",
      "+----------------+-----+\n",
      "\n"
     ]
    }
   ],
   "source": [
    "df.groupBy(\"Categories\").count().show()"
   ]
  },
  {
   "cell_type": "code",
   "execution_count": 36,
   "metadata": {},
   "outputs": [
    {
     "name": "stdout",
     "output_type": "stream",
     "text": [
      "+------------------------+\n",
      "|sum(US_Pct_or_Rate_2003)|\n",
      "+------------------------+\n",
      "|       509.1000000000001|\n",
      "+------------------------+\n",
      "\n"
     ]
    }
   ],
   "source": [
    "df.agg({'US_Pct_or_Rate_2003':'sum'}).show()"
   ]
  },
  {
   "cell_type": "code",
   "execution_count": 37,
   "metadata": {},
   "outputs": [
    {
     "name": "stdout",
     "output_type": "stream",
     "text": [
      "+------------------------+\n",
      "|max(US_Pct_or_Rate_2003)|\n",
      "+------------------------+\n",
      "|                   172.0|\n",
      "+------------------------+\n",
      "\n"
     ]
    }
   ],
   "source": [
    "df.agg({'US_Pct_or_Rate_2003':'max'}).show()"
   ]
  },
  {
   "cell_type": "code",
   "execution_count": 38,
   "metadata": {},
   "outputs": [
    {
     "name": "stdout",
     "output_type": "stream",
     "text": [
      "+------------------------+\n",
      "|min(US_Pct_or_Rate_2003)|\n",
      "+------------------------+\n",
      "|                     1.4|\n",
      "+------------------------+\n",
      "\n"
     ]
    }
   ],
   "source": [
    "df.agg({'US_Pct_or_Rate_2003':'min'}).show()"
   ]
  },
  {
   "cell_type": "code",
   "execution_count": 18,
   "metadata": {},
   "outputs": [],
   "source": [
    "from pyspark.sql.functions import countDistinct,avg,stddev"
   ]
  },
  {
   "cell_type": "code",
   "execution_count": 19,
   "metadata": {},
   "outputs": [
    {
     "name": "stdout",
     "output_type": "stream",
     "text": [
      "+-----------------------------------+\n",
      "|count(DISTINCT US_Pct_or_Rate_2003)|\n",
      "+-----------------------------------+\n",
      "|                                 22|\n",
      "+-----------------------------------+\n",
      "\n"
     ]
    }
   ],
   "source": [
    "df.select(countDistinct(\"US_Pct_or_Rate_2003\")).show()"
   ]
  },
  {
   "cell_type": "code",
   "execution_count": 20,
   "metadata": {},
   "outputs": [
    {
     "name": "stdout",
     "output_type": "stream",
     "text": [
      "+--------------+\n",
      "|total distinct|\n",
      "+--------------+\n",
      "|            22|\n",
      "+--------------+\n",
      "\n"
     ]
    }
   ],
   "source": [
    "df.select(countDistinct(\"US_Pct_or_Rate_2003\").alias(\"total distinct\")).show()"
   ]
  },
  {
   "cell_type": "code",
   "execution_count": 23,
   "metadata": {},
   "outputs": [
    {
     "name": "stdout",
     "output_type": "stream",
     "text": [
      "+------------------+\n",
      "|         total avg|\n",
      "+------------------+\n",
      "|23.140909090909094|\n",
      "+------------------+\n",
      "\n"
     ]
    }
   ],
   "source": [
    "df.select(avg(\"US_Pct_or_Rate_2003\").alias(\"total avg\")).show()"
   ]
  },
  {
   "cell_type": "code",
   "execution_count": 25,
   "metadata": {},
   "outputs": [
    {
     "name": "stdout",
     "output_type": "stream",
     "text": [
      "+-------------------+\n",
      "| stantard deviation|\n",
      "+-------------------+\n",
      "|  36.71955050937292|\n",
      "+-------------------+\n",
      "\n"
     ]
    }
   ],
   "source": [
    "df.select(stddev(\"US_Pct_or_Rate_2003\").alias(\" stantard deviation\")).show()"
   ]
  },
  {
   "cell_type": "code",
   "execution_count": 26,
   "metadata": {},
   "outputs": [],
   "source": [
    "from pyspark.sql.functions import format_number"
   ]
  },
  {
   "cell_type": "code",
   "execution_count": 27,
   "metadata": {},
   "outputs": [],
   "source": [
    "formating_number = df.select(stddev(\"US_Pct_or_Rate_2003\").alias(\" stantard deviation\"))"
   ]
  },
  {
   "cell_type": "code",
   "execution_count": 30,
   "metadata": {},
   "outputs": [
    {
     "name": "stdout",
     "output_type": "stream",
     "text": [
      "+-------------------------------------+\n",
      "|format_number( stantard deviation, 3)|\n",
      "+-------------------------------------+\n",
      "|                               36.720|\n",
      "+-------------------------------------+\n",
      "\n"
     ]
    }
   ],
   "source": [
    "formating_number.select(format_number(' stantard deviation',3)).show()"
   ]
  },
  {
   "cell_type": "code",
   "execution_count": 31,
   "metadata": {},
   "outputs": [
    {
     "name": "stdout",
     "output_type": "stream",
     "text": [
      "+-------------------+\n",
      "| stantard deviation|\n",
      "+-------------------+\n",
      "|             36.720|\n",
      "+-------------------+\n",
      "\n"
     ]
    }
   ],
   "source": [
    "formating_number.select(format_number(' stantard deviation',3).alias(\" stantard deviation\")).show()"
   ]
  },
  {
   "cell_type": "code",
   "execution_count": 32,
   "metadata": {},
   "outputs": [
    {
     "name": "stdout",
     "output_type": "stream",
     "text": [
      "+----------------+--------------------+-------------------+--------------------------+\n",
      "|      Categories|            Elements|US_Pct_or_Rate_2003|Healthy_People_2010_Target|\n",
      "+----------------+--------------------+-------------------+--------------------------+\n",
      "|  Birth Measures|Low Birth Wt. (<2...|                7.9|                       5.0|\n",
      "|  Birth Measures|Very Low Birth Wt...|                1.4|                       0.9|\n",
      "|  Birth Measures|Premature Births ...|               12.3|                       7.6|\n",
      "|  Birth Measures|Births to Women u...|                3.4|                   -9998.9|\n",
      "|  Birth Measures|Births to Women o...|                2.6|                   -9998.9|\n",
      "|  Birth Measures|Births to Unmarri...|               34.6|                   -9998.9|\n",
      "|  Birth Measures|No Care in First ...|               16.0|                      10.0|\n",
      "|Infant Mortality|    Infant Mortality|                6.8|                       4.5|\n",
      "|Infant Mortality|White non Hispani...|                5.7|                       4.5|\n",
      "|Infant Mortality|Black non Hispani...|               13.6|                       4.5|\n",
      "|Infant Mortality|Hispanic Infant M...|                5.6|                       4.5|\n",
      "|Infant Mortality|Neonatal Infant M...|                4.6|                       2.9|\n",
      "|Infant Mortality|Post-neonatal Inf...|                2.2|                       1.2|\n",
      "|  Death Measures|Breast Cancer (Fe...|               25.3|                      21.3|\n",
      "|  Death Measures|        Colon Cancer|               19.1|                      13.7|\n",
      "|  Death Measures|Coronary Heart Di...|              172.0|                     162.0|\n",
      "|  Death Measures|            Homicide|                6.0|                       2.8|\n",
      "|  Death Measures|         Lung Cancer|               54.1|                      43.3|\n",
      "|  Death Measures|Motor Vehicle Inj...|               14.8|                       8.0|\n",
      "|  Death Measures|              Stroke|               53.0|                      50.0|\n",
      "+----------------+--------------------+-------------------+--------------------------+\n",
      "only showing top 20 rows\n",
      "\n"
     ]
    }
   ],
   "source": [
    "df.show()"
   ]
  },
  {
   "cell_type": "code",
   "execution_count": 37,
   "metadata": {},
   "outputs": [
    {
     "name": "stdout",
     "output_type": "stream",
     "text": [
      "+----------------+--------------------+-------------------+--------------------------+\n",
      "|      Categories|            Elements|US_Pct_or_Rate_2003|Healthy_People_2010_Target|\n",
      "+----------------+--------------------+-------------------+--------------------------+\n",
      "|  Birth Measures|Very Low Birth Wt...|                1.4|                       0.9|\n",
      "|Infant Mortality|Post-neonatal Inf...|                2.2|                       1.2|\n",
      "|  Birth Measures|Births to Women o...|                2.6|                   -9998.9|\n",
      "|  Birth Measures|Births to Women u...|                3.4|                   -9998.9|\n",
      "|Infant Mortality|Neonatal Infant M...|                4.6|                       2.9|\n",
      "|Infant Mortality|Hispanic Infant M...|                5.6|                       4.5|\n",
      "|Infant Mortality|White non Hispani...|                5.7|                       4.5|\n",
      "|  Death Measures|            Homicide|                6.0|                       2.8|\n",
      "|Infant Mortality|    Infant Mortality|                6.8|                       4.5|\n",
      "|  Birth Measures|Low Birth Wt. (<2...|                7.9|                       5.0|\n",
      "|  Death Measures|             Suicide|               10.8|                       4.8|\n",
      "|  Birth Measures|Premature Births ...|               12.3|                       7.6|\n",
      "|Infant Mortality|Black non Hispani...|               13.6|                       4.5|\n",
      "|  Death Measures|Motor Vehicle Inj...|               14.8|                       8.0|\n",
      "|  Birth Measures|No Care in First ...|               16.0|                      10.0|\n",
      "|  Death Measures|        Colon Cancer|               19.1|                      13.7|\n",
      "|  Death Measures|Breast Cancer (Fe...|               25.3|                      21.3|\n",
      "|  Birth Measures|Births to Unmarri...|               34.6|                   -9998.9|\n",
      "|  Death Measures|Unintentional Injury|               37.3|                      17.1|\n",
      "|  Death Measures|              Stroke|               53.0|                      50.0|\n",
      "+----------------+--------------------+-------------------+--------------------------+\n",
      "only showing top 20 rows\n",
      "\n"
     ]
    }
   ],
   "source": [
    "df.orderBy((\"Healthy_People_2010_Target\") and (\"US_Pct_or_Rate_2003\")).show()"
   ]
  },
  {
   "cell_type": "code",
   "execution_count": 38,
   "metadata": {},
   "outputs": [
    {
     "name": "stdout",
     "output_type": "stream",
     "text": [
      "+----------------+--------------------+-------------------+--------------------------+\n",
      "|      Categories|            Elements|US_Pct_or_Rate_2003|Healthy_People_2010_Target|\n",
      "+----------------+--------------------+-------------------+--------------------------+\n",
      "|  Death Measures|Coronary Heart Di...|              172.0|                     162.0|\n",
      "|  Death Measures|         Lung Cancer|               54.1|                      43.3|\n",
      "|  Death Measures|              Stroke|               53.0|                      50.0|\n",
      "|  Death Measures|Unintentional Injury|               37.3|                      17.1|\n",
      "|  Birth Measures|Births to Unmarri...|               34.6|                   -9998.9|\n",
      "|  Death Measures|Breast Cancer (Fe...|               25.3|                      21.3|\n",
      "|  Death Measures|        Colon Cancer|               19.1|                      13.7|\n",
      "|  Birth Measures|No Care in First ...|               16.0|                      10.0|\n",
      "|  Death Measures|Motor Vehicle Inj...|               14.8|                       8.0|\n",
      "|Infant Mortality|Black non Hispani...|               13.6|                       4.5|\n",
      "|  Birth Measures|Premature Births ...|               12.3|                       7.6|\n",
      "|  Death Measures|             Suicide|               10.8|                       4.8|\n",
      "|  Birth Measures|Low Birth Wt. (<2...|                7.9|                       5.0|\n",
      "|Infant Mortality|    Infant Mortality|                6.8|                       4.5|\n",
      "|  Death Measures|            Homicide|                6.0|                       2.8|\n",
      "|Infant Mortality|White non Hispani...|                5.7|                       4.5|\n",
      "|Infant Mortality|Hispanic Infant M...|                5.6|                       4.5|\n",
      "|Infant Mortality|Neonatal Infant M...|                4.6|                       2.9|\n",
      "|  Birth Measures|Births to Women u...|                3.4|                   -9998.9|\n",
      "|  Birth Measures|Births to Women o...|                2.6|                   -9998.9|\n",
      "+----------------+--------------------+-------------------+--------------------------+\n",
      "only showing top 20 rows\n",
      "\n"
     ]
    }
   ],
   "source": [
    "df.orderBy(df[\"US_Pct_or_Rate_2003\"].desc()).show()"
   ]
  },
  {
   "cell_type": "code",
   "execution_count": null,
   "metadata": {},
   "outputs": [],
   "source": []
  }
 ],
 "metadata": {
  "kernelspec": {
   "display_name": "Python 3",
   "language": "python",
   "name": "python3"
  },
  "language_info": {
   "codemirror_mode": {
    "name": "ipython",
    "version": 3
   },
   "file_extension": ".py",
   "mimetype": "text/x-python",
   "name": "python",
   "nbconvert_exporter": "python",
   "pygments_lexer": "ipython3",
   "version": "3.6.5"
  }
 },
 "nbformat": 4,
 "nbformat_minor": 2
}
