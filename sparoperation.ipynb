{
 "cells": [
  {
   "cell_type": "code",
   "execution_count": 1,
   "metadata": {},
   "outputs": [],
   "source": [
    "from pyspark.sql import SparkSession"
   ]
  },
  {
   "cell_type": "code",
   "execution_count": 35,
   "metadata": {},
   "outputs": [],
   "source": [
    "spark = SparkSession.builder.appName('opp').getOrCreate()"
   ]
  },
  {
   "cell_type": "code",
   "execution_count": 36,
   "metadata": {},
   "outputs": [],
   "source": [
    "df = spark.read.csv('/home/aravind/Downloads/zip.csv',inferSchema=True,header=True)"
   ]
  },
  {
   "cell_type": "code",
   "execution_count": 37,
   "metadata": {},
   "outputs": [
    {
     "name": "stdout",
     "output_type": "stream",
     "text": [
      "root\n",
      " |-- Categories: string (nullable = true)\n",
      " |-- Elements: string (nullable = true)\n",
      " |-- US_Pct_or_Rate_2003: double (nullable = true)\n",
      " |-- Healthy_People_2010_Target: double (nullable = true)\n",
      "\n"
     ]
    }
   ],
   "source": [
    "df.printSchema()"
   ]
  },
  {
   "cell_type": "code",
   "execution_count": 38,
   "metadata": {
    "scrolled": true
   },
   "outputs": [
    {
     "name": "stdout",
     "output_type": "stream",
     "text": [
      "+----------------+--------------------+-------------------+--------------------------+\n",
      "|      Categories|            Elements|US_Pct_or_Rate_2003|Healthy_People_2010_Target|\n",
      "+----------------+--------------------+-------------------+--------------------------+\n",
      "|  Birth Measures|Low Birth Wt. (<2...|                7.9|                       5.0|\n",
      "|  Birth Measures|Very Low Birth Wt...|                1.4|                       0.9|\n",
      "|  Birth Measures|Premature Births ...|               12.3|                       7.6|\n",
      "|  Birth Measures|Births to Women u...|                3.4|                   -9998.9|\n",
      "|  Birth Measures|Births to Women o...|                2.6|                   -9998.9|\n",
      "|  Birth Measures|Births to Unmarri...|               34.6|                   -9998.9|\n",
      "|  Birth Measures|No Care in First ...|               16.0|                      10.0|\n",
      "|Infant Mortality|    Infant Mortality|                6.8|                       4.5|\n",
      "|Infant Mortality|White non Hispani...|                5.7|                       4.5|\n",
      "|Infant Mortality|Black non Hispani...|               13.6|                       4.5|\n",
      "|Infant Mortality|Hispanic Infant M...|                5.6|                       4.5|\n",
      "|Infant Mortality|Neonatal Infant M...|                4.6|                       2.9|\n",
      "|Infant Mortality|Post-neonatal Inf...|                2.2|                       1.2|\n",
      "|  Death Measures|Breast Cancer (Fe...|               25.3|                      21.3|\n",
      "|  Death Measures|        Colon Cancer|               19.1|                      13.7|\n",
      "|  Death Measures|Coronary Heart Di...|              172.0|                     162.0|\n",
      "|  Death Measures|            Homicide|                6.0|                       2.8|\n",
      "|  Death Measures|         Lung Cancer|               54.1|                      43.3|\n",
      "|  Death Measures|Motor Vehicle Inj...|               14.8|                       8.0|\n",
      "|  Death Measures|              Stroke|               53.0|                      50.0|\n",
      "+----------------+--------------------+-------------------+--------------------------+\n",
      "only showing top 20 rows\n",
      "\n"
     ]
    }
   ],
   "source": [
    "df.show()"
   ]
  },
  {
   "cell_type": "code",
   "execution_count": 39,
   "metadata": {},
   "outputs": [
    {
     "data": {
      "text/plain": [
       "DataFrame[US_Pct_or_Rate_2003: double]"
      ]
     },
     "execution_count": 39,
     "metadata": {},
     "output_type": "execute_result"
    }
   ],
   "source": [
    "df.select(\"US_Pct_or_Rate_2003\")"
   ]
  },
  {
   "cell_type": "code",
   "execution_count": 40,
   "metadata": {},
   "outputs": [
    {
     "name": "stdout",
     "output_type": "stream",
     "text": [
      "+-------------------+\n",
      "|US_Pct_or_Rate_2003|\n",
      "+-------------------+\n",
      "|                7.9|\n",
      "|                1.4|\n",
      "|               12.3|\n",
      "|                3.4|\n",
      "|                2.6|\n",
      "|               34.6|\n",
      "|               16.0|\n",
      "|                6.8|\n",
      "|                5.7|\n",
      "|               13.6|\n",
      "|                5.6|\n",
      "|                4.6|\n",
      "|                2.2|\n",
      "|               25.3|\n",
      "|               19.1|\n",
      "|              172.0|\n",
      "|                6.0|\n",
      "|               54.1|\n",
      "|               14.8|\n",
      "|               53.0|\n",
      "+-------------------+\n",
      "only showing top 20 rows\n",
      "\n"
     ]
    }
   ],
   "source": [
    "df.select(\"US_Pct_or_Rate_2003\").show()"
   ]
  },
  {
   "cell_type": "code",
   "execution_count": 41,
   "metadata": {},
   "outputs": [
    {
     "data": {
      "text/plain": [
       "[Row(Categories='Birth Measures', Elements='Low Birth Wt. (<2500 g)', US_Pct_or_Rate_2003=7.9, Healthy_People_2010_Target=5.0),\n",
       " Row(Categories='Birth Measures', Elements='Very Low Birth Wt. (<1500 g)', US_Pct_or_Rate_2003=1.4, Healthy_People_2010_Target=0.9),\n",
       " Row(Categories='Birth Measures', Elements='Premature Births (<37 weeks)', US_Pct_or_Rate_2003=12.3, Healthy_People_2010_Target=7.6),\n",
       " Row(Categories='Birth Measures', Elements='Births to Women under 18', US_Pct_or_Rate_2003=3.4, Healthy_People_2010_Target=-9998.9),\n",
       " Row(Categories='Birth Measures', Elements='Births to Women over 40', US_Pct_or_Rate_2003=2.6, Healthy_People_2010_Target=-9998.9)]"
      ]
     },
     "execution_count": 41,
     "metadata": {},
     "output_type": "execute_result"
    }
   ],
   "source": [
    "df.head(5)"
   ]
  },
  {
   "cell_type": "code",
   "execution_count": 42,
   "metadata": {},
   "outputs": [
    {
     "name": "stdout",
     "output_type": "stream",
     "text": [
      "+----------------+--------------------+-------------------+--------------------------+\n",
      "|      Categories|            Elements|US_Pct_or_Rate_2003|Healthy_People_2010_Target|\n",
      "+----------------+--------------------+-------------------+--------------------------+\n",
      "|  Birth Measures|Low Birth Wt. (<2...|                7.9|                       5.0|\n",
      "|  Birth Measures|Very Low Birth Wt...|                1.4|                       0.9|\n",
      "|  Birth Measures|Premature Births ...|               12.3|                       7.6|\n",
      "|  Birth Measures|Births to Women u...|                3.4|                   -9998.9|\n",
      "|  Birth Measures|Births to Women o...|                2.6|                   -9998.9|\n",
      "|Infant Mortality|    Infant Mortality|                6.8|                       4.5|\n",
      "|Infant Mortality|White non Hispani...|                5.7|                       4.5|\n",
      "|Infant Mortality|Hispanic Infant M...|                5.6|                       4.5|\n",
      "|Infant Mortality|Neonatal Infant M...|                4.6|                       2.9|\n",
      "|Infant Mortality|Post-neonatal Inf...|                2.2|                       1.2|\n",
      "|  Death Measures|            Homicide|                6.0|                       2.8|\n",
      "|  Death Measures|             Suicide|               10.8|                       4.8|\n",
      "+----------------+--------------------+-------------------+--------------------------+\n",
      "\n"
     ]
    }
   ],
   "source": [
    "df.filter(\"US_Pct_or_Rate_2003 < 13\").show()"
   ]
  },
  {
   "cell_type": "code",
   "execution_count": 44,
   "metadata": {},
   "outputs": [
    {
     "name": "stdout",
     "output_type": "stream",
     "text": [
      "+--------------------+-------------------+\n",
      "|            Elements|US_Pct_or_Rate_2003|\n",
      "+--------------------+-------------------+\n",
      "|Low Birth Wt. (<2...|                7.9|\n",
      "|Very Low Birth Wt...|                1.4|\n",
      "|Premature Births ...|               12.3|\n",
      "|Births to Women u...|                3.4|\n",
      "|Births to Women o...|                2.6|\n",
      "|    Infant Mortality|                6.8|\n",
      "|White non Hispani...|                5.7|\n",
      "|Hispanic Infant M...|                5.6|\n",
      "|Neonatal Infant M...|                4.6|\n",
      "|Post-neonatal Inf...|                2.2|\n",
      "|            Homicide|                6.0|\n",
      "|             Suicide|               10.8|\n",
      "+--------------------+-------------------+\n",
      "\n"
     ]
    }
   ],
   "source": [
    "df.filter(\"US_Pct_or_Rate_2003 < 13\").select(['Elements','US_Pct_or_Rate_2003']).show()"
   ]
  },
  {
   "cell_type": "code",
   "execution_count": 62,
   "metadata": {},
   "outputs": [
    {
     "name": "stdout",
     "output_type": "stream",
     "text": [
      "+----------------+--------------------+-------------------+--------------------------+\n",
      "|      Categories|            Elements|US_Pct_or_Rate_2003|Healthy_People_2010_Target|\n",
      "+----------------+--------------------+-------------------+--------------------------+\n",
      "|  Birth Measures|Births to Unmarri...|               34.6|                   -9998.9|\n",
      "|  Birth Measures|No Care in First ...|               16.0|                      10.0|\n",
      "|Infant Mortality|Black non Hispani...|               13.6|                       4.5|\n",
      "|  Death Measures|Breast Cancer (Fe...|               25.3|                      21.3|\n",
      "|  Death Measures|        Colon Cancer|               19.1|                      13.7|\n",
      "|  Death Measures|Motor Vehicle Inj...|               14.8|                       8.0|\n",
      "|  Death Measures|Unintentional Injury|               37.3|                      17.1|\n",
      "+----------------+--------------------+-------------------+--------------------------+\n",
      "\n"
     ]
    }
   ],
   "source": [
    "df.filter( (df['US_Pct_or_Rate_2003'] > 13) & (df['Healthy_People_2010_Target'] < 23)).show()"
   ]
  },
  {
   "cell_type": "code",
   "execution_count": 65,
   "metadata": {
    "scrolled": true
   },
   "outputs": [
    {
     "name": "stdout",
     "output_type": "stream",
     "text": [
      "+--------------+--------------------+-------------------+--------------------------+\n",
      "|    Categories|            Elements|US_Pct_or_Rate_2003|Healthy_People_2010_Target|\n",
      "+--------------+--------------------+-------------------+--------------------------+\n",
      "|Death Measures|Coronary Heart Di...|              172.0|                     162.0|\n",
      "|Death Measures|         Lung Cancer|               54.1|                      43.3|\n",
      "|Death Measures|              Stroke|               53.0|                      50.0|\n",
      "+--------------+--------------------+-------------------+--------------------------+\n",
      "\n"
     ]
    }
   ],
   "source": [
    "df.filter( (df['US_Pct_or_Rate_2003'] > 13) & ~(df['Healthy_People_2010_Target'] < 23)).show()"
   ]
  },
  {
   "cell_type": "code",
   "execution_count": 64,
   "metadata": {},
   "outputs": [
    {
     "name": "stdout",
     "output_type": "stream",
     "text": [
      "+--------------------+-------------------+\n",
      "|            Elements|US_Pct_or_Rate_2003|\n",
      "+--------------------+-------------------+\n",
      "|Births to Unmarri...|               34.6|\n",
      "|No Care in First ...|               16.0|\n",
      "|Black non Hispani...|               13.6|\n",
      "|Breast Cancer (Fe...|               25.3|\n",
      "|        Colon Cancer|               19.1|\n",
      "|Motor Vehicle Inj...|               14.8|\n",
      "|Unintentional Injury|               37.3|\n",
      "+--------------------+-------------------+\n",
      "\n"
     ]
    }
   ],
   "source": [
    "df.filter( (df['US_Pct_or_Rate_2003'] > 13) & (df['Healthy_People_2010_Target'] < 23)).select(['Elements','US_Pct_or_Rate_2003']).show()"
   ]
  },
  {
   "cell_type": "code",
   "execution_count": 66,
   "metadata": {},
   "outputs": [
    {
     "name": "stdout",
     "output_type": "stream",
     "text": [
      "+--------------+------------+-------------------+--------------------------+\n",
      "|    Categories|    Elements|US_Pct_or_Rate_2003|Healthy_People_2010_Target|\n",
      "+--------------+------------+-------------------+--------------------------+\n",
      "|Death Measures|Colon Cancer|               19.1|                      13.7|\n",
      "+--------------+------------+-------------------+--------------------------+\n",
      "\n"
     ]
    }
   ],
   "source": [
    "df.filter(df[\"US_Pct_or_Rate_2003\"]==19.1).show()"
   ]
  },
  {
   "cell_type": "code",
   "execution_count": 67,
   "metadata": {},
   "outputs": [
    {
     "data": {
      "text/plain": [
       "[Row(Categories='Death Measures', Elements='Colon Cancer', US_Pct_or_Rate_2003=19.1, Healthy_People_2010_Target=13.7)]"
      ]
     },
     "execution_count": 67,
     "metadata": {},
     "output_type": "execute_result"
    }
   ],
   "source": [
    "df.filter(df[\"US_Pct_or_Rate_2003\"]==19.1).collect()"
   ]
  },
  {
   "cell_type": "code",
   "execution_count": 68,
   "metadata": {},
   "outputs": [],
   "source": [
    "result =df.filter(df[\"US_Pct_or_Rate_2003\"]==19.1).collect()"
   ]
  },
  {
   "cell_type": "code",
   "execution_count": 69,
   "metadata": {},
   "outputs": [
    {
     "data": {
      "text/plain": [
       "[Row(Categories='Death Measures', Elements='Colon Cancer', US_Pct_or_Rate_2003=19.1, Healthy_People_2010_Target=13.7)]"
      ]
     },
     "execution_count": 69,
     "metadata": {},
     "output_type": "execute_result"
    }
   ],
   "source": [
    "result\n"
   ]
  },
  {
   "cell_type": "code",
   "execution_count": 72,
   "metadata": {},
   "outputs": [],
   "source": [
    "row = result[0]"
   ]
  },
  {
   "cell_type": "code",
   "execution_count": 74,
   "metadata": {},
   "outputs": [
    {
     "data": {
      "text/plain": [
       "{'Categories': 'Death Measures',\n",
       " 'Elements': 'Colon Cancer',\n",
       " 'US_Pct_or_Rate_2003': 19.1,\n",
       " 'Healthy_People_2010_Target': 13.7}"
      ]
     },
     "execution_count": 74,
     "metadata": {},
     "output_type": "execute_result"
    }
   ],
   "source": [
    "row.asDict()"
   ]
  },
  {
   "cell_type": "raw",
   "metadata": {},
   "source": []
  },
  {
   "cell_type": "code",
   "execution_count": 77,
   "metadata": {},
   "outputs": [
    {
     "data": {
      "text/plain": [
       "19.1"
      ]
     },
     "execution_count": 77,
     "metadata": {},
     "output_type": "execute_result"
    }
   ],
   "source": [
    "row.asDict()[\"US_Pct_or_Rate_2003\"]"
   ]
  },
  {
   "cell_type": "code",
   "execution_count": null,
   "metadata": {},
   "outputs": [],
   "source": []
  }
 ],
 "metadata": {
  "kernelspec": {
   "display_name": "Python 3",
   "language": "python",
   "name": "python3"
  },
  "language_info": {
   "codemirror_mode": {
    "name": "ipython",
    "version": 3
   },
   "file_extension": ".py",
   "mimetype": "text/x-python",
   "name": "python",
   "nbconvert_exporter": "python",
   "pygments_lexer": "ipython3",
   "version": "3.6.5"
  }
 },
 "nbformat": 4,
 "nbformat_minor": 2
}
