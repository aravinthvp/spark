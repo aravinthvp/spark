{
 "cells": [
  {
   "cell_type": "code",
   "execution_count": 1,
   "metadata": {},
   "outputs": [],
   "source": [
    "from pyspark.sql import SparkSession"
   ]
  },
  {
   "cell_type": "code",
   "execution_count": 2,
   "metadata": {},
   "outputs": [],
   "source": [
    "spark = SparkSession.builder.appName('date').getOrCreate()"
   ]
  },
  {
   "cell_type": "code",
   "execution_count": 33,
   "metadata": {},
   "outputs": [],
   "source": [
    "df = spark.read.csv('/home/aravind/Downloads/dataset.csv',inferSchema=True,header=True)"
   ]
  },
  {
   "cell_type": "code",
   "execution_count": 34,
   "metadata": {
    "scrolled": false
   },
   "outputs": [
    {
     "name": "stdout",
     "output_type": "stream",
     "text": [
      "+-------------------+-------------+-------------------+------+--------------+----------------+----+\n",
      "|               Data|        Tipus|                Nom|Simbol|          Preu|Tipus_cotitzacio| _c6|\n",
      "+-------------------+-------------+-------------------+------+--------------+----------------+----+\n",
      "|2017-11-19 00:00:00|crypto_moneda|         BTCBitcoin|   BTC|6832.132357049|       molt_alta|null|\n",
      "|2017-11-19 00:00:00|crypto_moneda|        ETHEthereum|   ETH| 298.516340662|            alta|null|\n",
      "|2017-11-19 00:00:00|crypto_moneda|    BCHBitcoin Cash|   BCH|1003.033599074|       molt_alta|null|\n",
      "|2017-11-19 00:00:00|crypto_moneda|          XRPRipple|   XRP|   0.195272854|           baixa|null|\n",
      "|2017-11-19 00:00:00|crypto_moneda|        LTCLitecoin|   LTC|  60.102649516|          normal|null|\n",
      "|2017-11-19 00:00:00|crypto_moneda|           DASHDash|  DASH| 372.095987511|            alta|null|\n",
      "|2017-11-19 00:00:00|crypto_moneda|             NEONEO|   NEO|  32.961710374|          normal|null|\n",
      "|2017-11-19 00:00:00|crypto_moneda|          MIOTAIOTA| MIOTA|   0.729219422|           baixa|null|\n",
      "|2017-11-19 00:00:00|crypto_moneda|          XMRMonero|   XMR| 108.665726285|            alta|null|\n",
      "|2017-11-19 00:00:00|crypto_moneda|             XEMNEM|   XEM|    0.17242484|           baixa|null|\n",
      "|2017-11-19 00:00:00|crypto_moneda|ETCEthereum Classic|   ETC|  15.117010249|          normal|null|\n",
      "|2017-11-19 00:00:00|crypto_moneda|            LSKLisk|   LSK|   7.860165531|          normal|null|\n",
      "|2017-11-19 00:00:00|crypto_moneda|           QTUMQtum|  QTUM|  11.777502082|          normal|null|\n",
      "|2017-11-19 00:00:00|crypto_moneda|             EOSEOS|   EOS|   1.606023011|          normal|null|\n",
      "|2017-11-19 00:00:00|crypto_moneda|          HSRHshare|   HSR|  16.476606449|          normal|null|\n",
      "|2017-11-19 00:00:00|crypto_moneda|         OMGOmiseGO|   OMG|    6.59404157|          normal|null|\n",
      "|2017-11-19 00:00:00|crypto_moneda|           ZECZcash|   ZEC| 250.692544327|            alta|null|\n",
      "|2017-11-19 00:00:00|crypto_moneda|         ADACardano|   ADA|   0.023438589|           baixa|null|\n",
      "|2017-11-19 00:00:00|crypto_moneda|         USDTTether|  USDT|   0.847027583|           baixa|null|\n",
      "|2017-11-19 00:00:00|crypto_moneda|  XLMStellar Lumens|   XLM|   0.030826295|           baixa|null|\n",
      "+-------------------+-------------+-------------------+------+--------------+----------------+----+\n",
      "only showing top 20 rows\n",
      "\n"
     ]
    }
   ],
   "source": [
    "df.show()"
   ]
  },
  {
   "cell_type": "code",
   "execution_count": 35,
   "metadata": {},
   "outputs": [
    {
     "data": {
      "text/plain": [
       "[Row(Data=datetime.datetime(2017, 11, 19, 0, 0), Tipus='crypto_moneda', Nom='BTCBitcoin', Simbol='BTC', Preu='6832.132357049', Tipus_cotitzacio='molt_alta', _c6=None)]"
      ]
     },
     "execution_count": 35,
     "metadata": {},
     "output_type": "execute_result"
    }
   ],
   "source": [
    "df.head(1)"
   ]
  },
  {
   "cell_type": "code",
   "execution_count": 36,
   "metadata": {},
   "outputs": [
    {
     "name": "stdout",
     "output_type": "stream",
     "text": [
      "+-------------------+-------------------+\n",
      "|               Data|                Nom|\n",
      "+-------------------+-------------------+\n",
      "|2017-11-19 00:00:00|         BTCBitcoin|\n",
      "|2017-11-19 00:00:00|        ETHEthereum|\n",
      "|2017-11-19 00:00:00|    BCHBitcoin Cash|\n",
      "|2017-11-19 00:00:00|          XRPRipple|\n",
      "|2017-11-19 00:00:00|        LTCLitecoin|\n",
      "|2017-11-19 00:00:00|           DASHDash|\n",
      "|2017-11-19 00:00:00|             NEONEO|\n",
      "|2017-11-19 00:00:00|          MIOTAIOTA|\n",
      "|2017-11-19 00:00:00|          XMRMonero|\n",
      "|2017-11-19 00:00:00|             XEMNEM|\n",
      "|2017-11-19 00:00:00|ETCEthereum Classic|\n",
      "|2017-11-19 00:00:00|            LSKLisk|\n",
      "|2017-11-19 00:00:00|           QTUMQtum|\n",
      "|2017-11-19 00:00:00|             EOSEOS|\n",
      "|2017-11-19 00:00:00|          HSRHshare|\n",
      "|2017-11-19 00:00:00|         OMGOmiseGO|\n",
      "|2017-11-19 00:00:00|           ZECZcash|\n",
      "|2017-11-19 00:00:00|         ADACardano|\n",
      "|2017-11-19 00:00:00|         USDTTether|\n",
      "|2017-11-19 00:00:00|  XLMStellar Lumens|\n",
      "+-------------------+-------------------+\n",
      "only showing top 20 rows\n",
      "\n"
     ]
    }
   ],
   "source": [
    "df.select(['Data','Nom']).show()"
   ]
  },
  {
   "cell_type": "code",
   "execution_count": 37,
   "metadata": {},
   "outputs": [],
   "source": [
    "from pyspark.sql.functions import (date_format,format_number,dayofmonth,dayofweek,\n",
    "                                  weekofyear,month,year,hour,dayofyear)"
   ]
  },
  {
   "cell_type": "code",
   "execution_count": 38,
   "metadata": {},
   "outputs": [
    {
     "name": "stdout",
     "output_type": "stream",
     "text": [
      "+----------------+\n",
      "|weekofyear(Data)|\n",
      "+----------------+\n",
      "|              46|\n",
      "|              46|\n",
      "|              46|\n",
      "|              46|\n",
      "|              46|\n",
      "|              46|\n",
      "|              46|\n",
      "|              46|\n",
      "|              46|\n",
      "|              46|\n",
      "|              46|\n",
      "|              46|\n",
      "|              46|\n",
      "|              46|\n",
      "|              46|\n",
      "|              46|\n",
      "|              46|\n",
      "|              46|\n",
      "|              46|\n",
      "|              46|\n",
      "+----------------+\n",
      "only showing top 20 rows\n",
      "\n"
     ]
    }
   ],
   "source": [
    "df.select(weekofyear(df['Data'])).show()  #data contains 46 week in csv file"
   ]
  },
  {
   "cell_type": "code",
   "execution_count": 39,
   "metadata": {},
   "outputs": [
    {
     "name": "stdout",
     "output_type": "stream",
     "text": [
      "+----------+\n",
      "|year(Data)|\n",
      "+----------+\n",
      "|      2017|\n",
      "|      2017|\n",
      "|      2017|\n",
      "|      2017|\n",
      "|      2017|\n",
      "|      2017|\n",
      "|      2017|\n",
      "|      2017|\n",
      "|      2017|\n",
      "|      2017|\n",
      "|      2017|\n",
      "|      2017|\n",
      "|      2017|\n",
      "|      2017|\n",
      "|      2017|\n",
      "|      2017|\n",
      "|      2017|\n",
      "|      2017|\n",
      "|      2017|\n",
      "|      2017|\n",
      "+----------+\n",
      "only showing top 20 rows\n",
      "\n"
     ]
    }
   ],
   "source": [
    "df.select(year(df['Data'])).show()"
   ]
  },
  {
   "cell_type": "code",
   "execution_count": 46,
   "metadata": {},
   "outputs": [
    {
     "name": "stdout",
     "output_type": "stream",
     "text": [
      "+-------------------+-------------+-------------------+------+--------------+----------------+----+\n",
      "|               Date|        Tipus|                Nom|Simbol|          Preu|Tipus_cotitzacio| _c6|\n",
      "+-------------------+-------------+-------------------+------+--------------+----------------+----+\n",
      "|2017-11-19 00:00:00|crypto_moneda|         BTCBitcoin|   BTC|6832.132357049|       molt_alta|null|\n",
      "|2017-11-19 00:00:00|crypto_moneda|        ETHEthereum|   ETH| 298.516340662|            alta|null|\n",
      "|2017-11-19 00:00:00|crypto_moneda|    BCHBitcoin Cash|   BCH|1003.033599074|       molt_alta|null|\n",
      "|2017-11-19 00:00:00|crypto_moneda|          XRPRipple|   XRP|   0.195272854|           baixa|null|\n",
      "|2017-11-19 00:00:00|crypto_moneda|        LTCLitecoin|   LTC|  60.102649516|          normal|null|\n",
      "|2017-11-19 00:00:00|crypto_moneda|           DASHDash|  DASH| 372.095987511|            alta|null|\n",
      "|2017-11-19 00:00:00|crypto_moneda|             NEONEO|   NEO|  32.961710374|          normal|null|\n",
      "|2017-11-19 00:00:00|crypto_moneda|          MIOTAIOTA| MIOTA|   0.729219422|           baixa|null|\n",
      "|2017-11-19 00:00:00|crypto_moneda|          XMRMonero|   XMR| 108.665726285|            alta|null|\n",
      "|2017-11-19 00:00:00|crypto_moneda|             XEMNEM|   XEM|    0.17242484|           baixa|null|\n",
      "|2017-11-19 00:00:00|crypto_moneda|ETCEthereum Classic|   ETC|  15.117010249|          normal|null|\n",
      "|2017-11-19 00:00:00|crypto_moneda|            LSKLisk|   LSK|   7.860165531|          normal|null|\n",
      "|2017-11-19 00:00:00|crypto_moneda|           QTUMQtum|  QTUM|  11.777502082|          normal|null|\n",
      "|2017-11-19 00:00:00|crypto_moneda|             EOSEOS|   EOS|   1.606023011|          normal|null|\n",
      "|2017-11-19 00:00:00|crypto_moneda|          HSRHshare|   HSR|  16.476606449|          normal|null|\n",
      "|2017-11-19 00:00:00|crypto_moneda|         OMGOmiseGO|   OMG|    6.59404157|          normal|null|\n",
      "|2017-11-19 00:00:00|crypto_moneda|           ZECZcash|   ZEC| 250.692544327|            alta|null|\n",
      "|2017-11-19 00:00:00|crypto_moneda|         ADACardano|   ADA|   0.023438589|           baixa|null|\n",
      "|2017-11-19 00:00:00|crypto_moneda|         USDTTether|  USDT|   0.847027583|           baixa|null|\n",
      "|2017-11-19 00:00:00|crypto_moneda|  XLMStellar Lumens|   XLM|   0.030826295|           baixa|null|\n",
      "+-------------------+-------------+-------------------+------+--------------+----------------+----+\n",
      "only showing top 20 rows\n",
      "\n"
     ]
    }
   ],
   "source": [
    "df.withColumnRenamed(\"Data\",\"Date\").show()"
   ]
  },
  {
   "cell_type": "code",
   "execution_count": null,
   "metadata": {},
   "outputs": [],
   "source": []
  },
  {
   "cell_type": "code",
   "execution_count": null,
   "metadata": {},
   "outputs": [],
   "source": []
  },
  {
   "cell_type": "code",
   "execution_count": null,
   "metadata": {},
   "outputs": [],
   "source": []
  }
 ],
 "metadata": {
  "kernelspec": {
   "display_name": "Python 3",
   "language": "python",
   "name": "python3"
  },
  "language_info": {
   "codemirror_mode": {
    "name": "ipython",
    "version": 3
   },
   "file_extension": ".py",
   "mimetype": "text/x-python",
   "name": "python",
   "nbconvert_exporter": "python",
   "pygments_lexer": "ipython3",
   "version": "3.6.5"
  }
 },
 "nbformat": 4,
 "nbformat_minor": 2
}
